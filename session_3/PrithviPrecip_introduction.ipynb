{
 "cells": [
  {
   "cell_type": "markdown",
   "id": "e7377ef8-58f4-4c91-820a-1214edb2fec9",
   "metadata": {},
   "source": [
    "# Precipitation forecast example\n",
    "\n",
    "This notebook demonstrates how to perform precipitation forecasts using the Prithvi Precip model. The Prithvi Precip is a finetuned version of the Prithvi-WxC foundation model that was finetuned using  IMERG data from January 1st 2000 to December 31 2019."
   ]
  },
  {
   "cell_type": "code",
   "execution_count": null,
   "id": "26d17732-8b96-4d20-b467-d41572485f76",
   "metadata": {},
   "outputs": [],
   "source": [
    "%load_ext autoreload\n",
    "%autoreload 2\n",
    "from pathlib import Path\n",
    "\n",
    "import numpy as np\n",
    "import xarray as xr\n",
    "import matplotlib.pyplot as plt"
   ]
  },
  {
   "cell_type": "markdown",
   "id": "72d85484-85ab-4bcc-872d-5f00b3220d99",
   "metadata": {},
   "source": [
    "## Required packages\n",
    "\n",
    "The code for the Prithvi Precip model is available from this [GitHub](https://github.com/simonpf/prithvi_precip) repository. \n",
    "\n",
    "> **Disclaimer**: This is still early development. From a quality perspective the code is not yet where I would like it to be and is likely to still change in the future."
   ]
  },
  {
   "cell_type": "code",
   "execution_count": null,
   "id": "7d380eba-8d2d-43ef-a6d0-a8f30f1886f2",
   "metadata": {
    "scrolled": true
   },
   "outputs": [],
   "source": [
    "!conda run -n prithvi_wxc pip install git+https://github.com/simonpf/prithvi_precip"
   ]
  },
  {
   "cell_type": "markdown",
   "id": "fe63368d-34df-472b-85ea-dace5a78a661",
   "metadata": {},
   "source": [
    "## Example data\n",
    "\n",
    "The trained Prithvi Precip model is available on HuggingFace. The repository contains the model itself as well as input data from August 26 - 31, 2020. The function below download the model as well as the input data."
   ]
  },
  {
   "cell_type": "code",
   "execution_count": null,
   "id": "afac9010-8f13-4a5c-9c75-7a04520606d3",
   "metadata": {
    "scrolled": true
   },
   "outputs": [],
   "source": [
    "from huggingface_hub import snapshot_download\n",
    "\n",
    "\n",
    "local_dir = snapshot_download(\n",
    "    repo_id=\"simonpf/prithvi_precip\",\n",
    "    local_dir=\".\"\n",
    ")"
   ]
  },
  {
   "cell_type": "markdown",
   "id": "5602b2ab-7418-420f-9576-9648ae48784c",
   "metadata": {},
   "source": [
    "The input data is downloaded to the ``data`` dir. The directory contains the static data that the Prithvi-WxC model requires such as the climatology, scaling factors, static input data, as well as the dynamic input data and reference precipitation data."
   ]
  },
  {
   "cell_type": "markdown",
   "id": "970b1584-7496-463b-a132-1f0a0379c4ba",
   "metadata": {},
   "source": [
    "## Loading the model\n",
    "\n",
    "The Prithvi Precip is a slightly modified version of the Prithvi-WxC model. It adds two components to the model:\n",
    "\n",
    "- An observation encoder\n",
    "- A MLP head that predicts precipitation from the original model output.\n",
    "\n",
    "The code for the model itself is part of the [pytorch_retrieve](https://github.com/simonpf/pytorch_retrieve) package. This package was originally developed to simplify building precipitation retrievals (hence the name)  but it now also handles forecasts. The implementation can be found [here](https://github.com/simonpf/pytorch_retrieve/blob/8910dce482cfe4e7259415e727e9323afbfe8a33/pytorch_retrieve/models/prithvi_wxc.py#L374). \n",
    "\n",
    "I provide this here mostly as a future reference in case this may be useful if you aim to develop your own models built on the Prithvi-WxC FM. It is not critical for understanding the remainder of this notebook.\n"
   ]
  },
  {
   "cell_type": "code",
   "execution_count": null,
   "id": "68fd9b26-dc48-48da-b810-e022a9ae4f3f",
   "metadata": {},
   "outputs": [],
   "source": [
    "%env PRITHVI_DATA_PATH=data/scaling_factors"
   ]
  },
  {
   "cell_type": "code",
   "execution_count": null,
   "id": "f1c23e3b-45c1-49d7-87c3-f6b58c31cc1e",
   "metadata": {},
   "outputs": [],
   "source": [
    "from pytorch_retrieve import load_model\n",
    "model = load_model(\"prithvi_precip_obs.pt\").eval()"
   ]
  },
  {
   "cell_type": "markdown",
   "id": "b04ba602-b671-43d7-9769-0a7b4c97bea8",
   "metadata": {},
   "source": [
    "## Input data\n",
    "\n",
    "The input data expected by the Prithvi Precip is very similar to that of the Prithvi-WxC model. Just as the Prithvi-WxC model, the model expects a dictionary containing the dynamic input (``x``), static input (``static``), the climatology (``climatology``), as well as the lead time in hours (``lead_time``) and the time difference between the two input steps (``input_time``).\n",
    "\n",
    "Additionally, the model expects two tensors ``obs`` and ``obs_meta`` containing the satellite observations and their meta data. The meta data is information describing the observations. It consists of:\n",
    "\n",
    " - The log of the observations frequency\n",
    " - The channel offsets for passive microwave channels with symmetric offsets (0 for all others)\n",
    " - The relative time within the input data window.\n",
    " - One-hot encoded polarization: \"H\", \"V\", \"QH\", \"QV\", or none."
   ]
  },
  {
   "cell_type": "markdown",
   "id": "36b6dd75-90c2-484f-b6fa-46fec1a24a73",
   "metadata": {},
   "source": [
    "### Loading data\n",
    "\n",
    "The loading is again performed using a custom dataset class."
   ]
  },
  {
   "cell_type": "code",
   "execution_count": null,
   "id": "cb9a23e2-713a-49d5-9ae0-7177cb46a52b",
   "metadata": {},
   "outputs": [],
   "source": [
    "from prithvi_precip.datasets import DirectPrecipForecastWithObsDataset\n",
    "\n",
    "dataset = DirectPrecipForecastWithObsDataset(\n",
    "    \"data/input_data/\"\n",
    ")\n",
    "initialization_time = np.datetime64(\"2020-08-26T12:00:00\")"
   ]
  },
  {
   "cell_type": "markdown",
   "id": "63f3ec0d-88e3-439f-8a16-b739dac66778",
   "metadata": {},
   "source": [
    "## Forecast from MERRA data\n",
    "\n",
    "As a baseline, we will run a precipitation forecast using only the MERRA-2 data as input. An important difference to the original Pritvhvi-WxC model is that the Prithvi Precip model does not require unrolling because it has been trained to predict lead time from 3 to 96 hours.\n",
    "\n",
    "> **Note**: We set ``model_only=True``. This sets all observations in the input to 0 forcing the model to ignore them."
   ]
  },
  {
   "cell_type": "code",
   "execution_count": null,
   "id": "4ff1bb3b-3fe2-4a06-8183-46c1dcc56505",
   "metadata": {
    "scrolled": true
   },
   "outputs": [],
   "source": [
    "import torch\n",
    "from tqdm import tqdm\n",
    "\n",
    "device = \"cuda\" if torch.cuda.is_available() else \"cpu\"\n",
    "dtype = torch.float32\n",
    "forecast_steps = 16\n",
    "\n",
    "model = model.to(device=device, dtype=dtype)\n",
    "\n",
    "batch_iterator = dataset.get_batched_direct_forecast_input(initialization_time, n_steps=forecast_steps, batch_size=1)\n",
    "results = []\n",
    "\n",
    "step = 1\n",
    "for inpt in tqdm(batch_iterator, total=forecast_steps, desc=\"Running forecast\"):\n",
    "    lats = np.rad2deg(inpt[\"static\"][0, 0].float().cpu().numpy())[:, 0]\n",
    "    lons = np.rad2deg(inpt[\"static\"][0, 1].float().cpu().numpy())[0]\n",
    "    valid_time = initialization_time + np.timedelta64(3, \"h\") * step\n",
    "    step += 1\n",
    "\n",
    "    # Move input to GPU and case to target dtype.\n",
    "    inpt = {\n",
    "        name: tnsr.to(device=device, dtype=dtype) for name,tnsr in inpt.items()\n",
    "    }\n",
    "\n",
    "    # Run inference\n",
    "    with torch.no_grad():\n",
    "        pred = model(inpt, model_only=True)[\"surface_precip\"]\n",
    "        expected_value = pred.expected_value().cpu().float().numpy()[0, 0] # Drop batch and feature dimensions.\n",
    "        p_1 = pred.probability_greater_than(1.0).cpu().float().numpy()[0, 0]\n",
    "        p_10 = pred.probability_greater_than(10.0).cpu().float().numpy()[0, 0]\n",
    "\n",
    "    result = xr.Dataset({\n",
    "        \"latitude\": ((\"latitude\",), lats),\n",
    "        \"longitude\": ((\"longitude\",), lons),\n",
    "        \"valid_time\": valid_time,\n",
    "        \"surface_precip\": ((\"latitude\", \"longitude\"), expected_value),\n",
    "        \"p_1mm\": ((\"latitude\", \"longitude\"), p_1,),\n",
    "        \"p_10mm\": ((\"latitude\", \"longitude\"), p_10)\n",
    "    })\n",
    "    results.append(result)\n",
    "    \n",
    "results = xr.concat(results, dim=\"valid_time\")\n",
    "results[\"initialization_time\"] = initialization_time\n",
    "        "
   ]
  },
  {
   "cell_type": "markdown",
   "id": "4e316215-5d73-4f8b-aa40-de3af33c1c47",
   "metadata": {},
   "source": [
    "## Reference data\n",
    "\n",
    "In order to have something to compare the forecasts to, we load reference precipitation data from MERRA-2 and IMERG. MERRA-2 is the dataset that the original Prithvi-WxC model was trained on, however, the model did not use precipitation as a input or output variables. IMERG, on the other hand, is the satellite precipitation product that the Prithvi Precip model was trained on."
   ]
  },
  {
   "cell_type": "code",
   "execution_count": null,
   "id": "c48a6d1c-8b22-4344-a2f1-fe8c03b24e70",
   "metadata": {},
   "outputs": [],
   "source": [
    "results_imerg = []\n",
    "results_merra = []\n",
    "\n",
    "reference_data_path = Path(\"data/input_data/\")\n",
    "\n",
    "\n",
    "for time in results.valid_time.data:\n",
    "    time = time.astype(\"datetime64[s]\").item()\n",
    "\n",
    "    imerg_file = time.strftime(\"imerg_3/%Y/%m/imerg_%Y%m%d%H%M.nc\")\n",
    "    imerg_data = xr.load_dataset(reference_data_path / imerg_file)\n",
    "    imerg_data[\"p_10mm\"] = 5 < imerg_data.surface_precip\n",
    "    results_imerg.append(imerg_data)\n",
    "    \n",
    "    merra_file = time.strftime(\"merra2_precip_3/%Y/%m/merra2_precip_%Y%m%d%H%M.nc\")\n",
    "    merra_data = xr.load_dataset(reference_data_path / merra_file)[{\"lat\": slice(0, -1)}].rename(lat=\"latitude\", lon=\"longitude\")\n",
    "    merra_data[\"p_10mm\"] = 5 < imerg_data.surface_precip\n",
    "    results_merra.append(merra_data)\n",
    "\n",
    "results_imerg = xr.concat(results_imerg, dim=\"time\").rename(time=\"valid_time\")\n",
    "results_imerg[\"initialization_time\"] = initialization_time\n",
    "results_merra = xr.concat(results_merra, dim=\"time\").rename(time=\"valid_time\")\n",
    "results_merra[\"initialization_time\"] = initialization_time"
   ]
  },
  {
   "cell_type": "markdown",
   "id": "30694e0e-944c-4946-b5d0-4ed53b1b5e17",
   "metadata": {},
   "source": [
    "## Forecast results\n",
    "\n",
    "### Global"
   ]
  },
  {
   "cell_type": "code",
   "execution_count": null,
   "id": "b4b2eecc-0ae0-4b83-90a0-144cd0744867",
   "metadata": {},
   "outputs": [],
   "source": [
    "from prithvi_precip.plotting import set_style, animate_results\n",
    "from IPython.display import HTML\n",
    "\n",
    "ani = animate_results(\n",
    "    {\n",
    "        \"Prithvi Precip\": results,\n",
    "        \"MERRA-2\": results_merra,\n",
    "        \"IMERG\": results_imerg\n",
    "    },\n",
    "    n_cols=2,\n",
    "    panel_width=8\n",
    ")\n",
    "HTML(ani.to_jshtml())"
   ]
  },
  {
   "cell_type": "markdown",
   "id": "766ec835-5a22-40c4-9604-a2043f7914fa",
   "metadata": {},
   "source": [
    "## Hurricane Laura\n",
    "\n",
    "The forecast period covers the landfall of Hurricane Laura in 2020 so we take a closer look at the Gulf of America. \n",
    "\n",
    "> **Note**: The variables ``lon_min, lon_max, lat_min, lat_max`` define the bounding box for the region of interes (ROI). Feel free to change it to explore other regions of the forecast."
   ]
  },
  {
   "cell_type": "code",
   "execution_count": null,
   "id": "b5acfe4e-16eb-4686-8277-ff8718382325",
   "metadata": {},
   "outputs": [],
   "source": [
    "lon_min = -105\n",
    "lon_max = -75\n",
    "lat_min = 15\n",
    "lat_max = 40\n",
    "\n",
    "lon_mask = (lon_min <= results.longitude) * (results.longitude <= lon_max)\n",
    "lat_mask = (lat_min <= results.latitude) * (results.latitude <= lat_max)\n",
    "\n",
    "results_roi = results[{\"latitude\": lat_mask, \"longitude\": lon_mask}]\n",
    "results_merra_roi = results_merra[{\"latitude\": lat_mask.data, \"longitude\": lon_mask.data}]\n",
    "results_imerg_roi = results_imerg[{\"latitude\": lat_mask.data, \"longitude\": lon_mask.data}]"
   ]
  },
  {
   "cell_type": "code",
   "execution_count": null,
   "id": "9a415e58-71a0-4340-9683-28721589a381",
   "metadata": {},
   "outputs": [],
   "source": [
    "from prithvi_precip.plotting import set_style, animate_results\n",
    "from IPython.display import HTML\n",
    "\n",
    "ani = animate_results(\n",
    "    {\n",
    "        \"IMERG\": results_imerg_roi,\n",
    "        \"MERRA-2\": results_merra_roi,\n",
    "        \"Prithvi Precip\": results_roi,\n",
    "    },\n",
    "    include_metrics=True\n",
    ")\n",
    "HTML(ani.to_jshtml())"
   ]
  },
  {
   "cell_type": "markdown",
   "id": "1a0599ee-35aa-43bc-b45d-9d6c55bcbe16",
   "metadata": {},
   "source": [
    "# Adding observations\n",
    "\n",
    "As mentioned above, the input for the Prithvi Precip model adds observations (``obs``) and observation meta data to the input (``obs_meta``). Due to the way the model handles observations, the observations are not loaded on the global grid but on the tiling that the Prithvi-WxC model expects. The shape of the tensors is $[n_b, n_t, n_{g,lat}, n_{g,lon}, n_{obs}, 1, n_{l,lat}, n_{l, lon}]$ where\n",
    "\n",
    "- $n_b$: Is the batch dimension\n",
    "- $n_t$: Is the number of input timesteps\n",
    "- $n_{g, lat}$: Is the number of tiles along the meridional direction.\n",
    "- $n_{g, lon}$: Is the number of tiles along the zonal direction.\n",
    "- $n_{obs}$: Is the number of loaded observation layers (32)\n",
    "- $n_{l, lat}$: Is the size of each tile along the meridional dimension.\n",
    "- $n_{l, lon}$: Is the size of each tile along the zonal dimension."
   ]
  },
  {
   "cell_type": "markdown",
   "id": "911e424f-5f23-4820-bcd5-5028fc8bfc34",
   "metadata": {},
   "source": [
    "## Plotting a single observation tile\n",
    "\n",
    "The observation data passed into the model is already normalized. The model uses a very simple normalization scheme. Observations are stored using reflectivities in percent and brightness temperatures. These are normalized by mapping values in the range [0, 300] to [-1, 1]."
   ]
  },
  {
   "cell_type": "code",
   "execution_count": null,
   "id": "0d0616d1-6c1c-4782-9460-9a277f668711",
   "metadata": {},
   "outputs": [],
   "source": []
  },
  {
   "cell_type": "code",
   "execution_count": null,
   "id": "b2af3e14-e07c-470d-a3ab-b57403e4508b",
   "metadata": {},
   "outputs": [],
   "source": [
    "input_data = dataset.get_direct_forecast_input(initialization_time, 1)"
   ]
  },
  {
   "cell_type": "code",
   "execution_count": null,
   "id": "72e369a9-7b4d-41c1-9f45-7f61c6807545",
   "metadata": {},
   "outputs": [],
   "source": [
    "plt.pcolormesh(input_data[\"obs\"][0, 0, 4, 0, 0, 0])\n",
    "plt.colorbar()"
   ]
  },
  {
   "cell_type": "markdown",
   "id": "62f65ef0-a9ce-401c-966e-6f905070a66a",
   "metadata": {},
   "source": [
    "Visualizing a single tile is generally not very helpful so the ``prithvi_precip`` package also provides a function to visualize the full grid of tiles. We use this function below to visualize all of the 32 observation layers.\n",
    "\n",
    "Note that you may want to load the image in a new tab (right click + open image in new tab) and zoom in to make out any detail."
   ]
  },
  {
   "cell_type": "code",
   "execution_count": null,
   "id": "3e9f36d0-e188-4a33-aef2-e2fda548d574",
   "metadata": {},
   "outputs": [],
   "source": [
    "obs, meta = dataset.obs_loader.load_observations(np.datetime64(\"2020-08-26T12:00:00\"), randomize=False)"
   ]
  },
  {
   "cell_type": "code",
   "execution_count": null,
   "id": "b75dd22f-99c2-476a-920b-cbe6272ebc10",
   "metadata": {},
   "outputs": [],
   "source": [
    "import torch\n",
    "from matplotlib.gridspec import GridSpec\n",
    "from prithvi_precip.plotting import plot_tiles, set_style\n",
    "from matplotlib import colormaps\n",
    "\n",
    "cmap = colormaps.get_cmap(\"magma\")\n",
    "cmap.set_bad(\"grey\")\n",
    "fig = plt.figure(figsize=(20, 8))\n",
    "gs = GridSpec(4, 8, wspace=0.2, hspace=0.2)\n",
    "\n",
    "for row_ind in range(4):\n",
    "    for col_ind in range(8):\n",
    "        layer_ind = row_ind * 8 + col_ind\n",
    "        ax = fig.add_subplot(gs[row_ind, col_ind])\n",
    "        ax.set_title(f\"Layer {layer_ind + 1}\")\n",
    "        tile = obs[:, :, layer_ind, 0].clone()\n",
    "        tile[tile < -1] = torch.nan\n",
    "        plot_tiles(tile, 0, 1, 2, 3, ax=ax, colorbar=False, cmap=cmap)\n",
    "\n",
    "        ax.set_xticks([])\n",
    "        ax.set_yticks([])"
   ]
  },
  {
   "cell_type": "markdown",
   "id": "b0b11c4d-5ba2-4d2f-88e8-59dafa449aec",
   "metadata": {},
   "source": [
    "## Forecast with observations"
   ]
  },
  {
   "cell_type": "code",
   "execution_count": null,
   "id": "8b424d59-698a-4ec1-a708-15b30a1a39c0",
   "metadata": {},
   "outputs": [],
   "source": [
    "import torch\n",
    "from tqdm import tqdm\n",
    "\n",
    "device = \"cuda\" if torch.cuda.is_available() else \"cpu\"\n",
    "dtype = torch.float32\n",
    "\n",
    "model = model.to(device=device, dtype=dtype)\n",
    "batch_iterator = dataset.get_batched_direct_forecast_input(initialization_time, n_steps=forecast_steps, batch_size=1)\n",
    "results_obs = []\n",
    "\n",
    "step = 1\n",
    "for inpt in tqdm(batch_iterator, total=forecast_steps, desc=\"Running forecast\"):\n",
    "    lats = np.rad2deg(inpt[\"static\"][0, 0].float().cpu().numpy())[:, 0]\n",
    "    lons = np.rad2deg(inpt[\"static\"][0, 1].float().cpu().numpy())[0]\n",
    "    valid_time = initialization_time + np.timedelta64(3, \"h\") * step\n",
    "    step += 1\n",
    "\n",
    "    # Move input to GPU and case to target dtype.\n",
    "    inpt = {\n",
    "        name: tnsr.to(device=device, dtype=dtype) for name,tnsr in inpt.items()\n",
    "    }\n",
    "\n",
    "    # Run inference\n",
    "    with torch.no_grad():\n",
    "        pred = model(inpt, model_only=False)[\"surface_precip\"]\n",
    "        expected_value = pred.expected_value().cpu().float().numpy()[0, 0] # Drop batch and feature dimensions.\n",
    "        p_1 = pred.probability_greater_than(1.0).cpu().float().numpy()[0, 0]\n",
    "        p_10 = pred.probability_greater_than(10.0).cpu().float().numpy()[0, 0]\n",
    "\n",
    "    result = xr.Dataset({\n",
    "        \"latitude\": ((\"latitude\",), lats),\n",
    "        \"longitude\": ((\"longitude\",), lons),\n",
    "        \"valid_time\": valid_time,\n",
    "        \"surface_precip\": ((\"latitude\", \"longitude\"), expected_value),\n",
    "        \"p_1mm\": ((\"latitude\", \"longitude\"), p_1,),\n",
    "        \"p_10mm\": ((\"latitude\", \"longitude\"), p_10)\n",
    "    })\n",
    "    results_obs.append(result)\n",
    "    \n",
    "results_obs = xr.concat(results_obs, dim=\"valid_time\")\n",
    "results_obs[\"initialization_time\"] = initialization_time\n",
    "results_obs_roi = results_obs[{\"latitude\": lat_mask.data, \"longitude\": lon_mask.data}]"
   ]
  },
  {
   "cell_type": "code",
   "execution_count": null,
   "id": "7e1d7a54-d0b2-4f69-b878-5f30ac602882",
   "metadata": {},
   "outputs": [],
   "source": [
    "from prithvi_precip.plotting import set_style, animate_results\n",
    "from IPython.display import HTML\n",
    "\n",
    "ani = animate_results(\n",
    "    {\n",
    "        \"IMERG\": results_imerg,\n",
    "        \"MERRA-2\": results_merra,\n",
    "        \"Prithvi Precip\": results,\n",
    "        \"Prithvi Precip (Obs)\": results_obs,\n",
    "    },\n",
    "    include_metrics=True,\n",
    "    panel_width=8,\n",
    "    n_cols=2\n",
    ")\n",
    "HTML(ani.to_jshtml())"
   ]
  },
  {
   "cell_type": "code",
   "execution_count": null,
   "id": "92d5bf85-a93b-4bea-ba19-5b6266d5b43d",
   "metadata": {},
   "outputs": [],
   "source": [
    "from prithvi_precip.plotting import set_style, animate_results\n",
    "from IPython.display import HTML\n",
    "\n",
    "ani = animate_results(\n",
    "    {\n",
    "        \"IMERG\": results_imerg_roi,\n",
    "        \"MERRA-2\": results_merra_roi,\n",
    "        \"Prithvi Precip\": results_roi,\n",
    "        \"Prithvi Precip (Obs)\": results_obs_roi,\n",
    "    },\n",
    "    include_metrics=True,\n",
    "    n_cols=2\n",
    ")\n",
    "HTML(ani.to_jshtml())"
   ]
  },
  {
   "cell_type": "markdown",
   "id": "dfa6ac92-44cf-4c69-8148-d495695000a7",
   "metadata": {},
   "source": [
    "## Observation-only forecast\n",
    "\n",
    "Finally we also run an observation-only forecast. We do this by setting the ``obs_only`` flag to ``True``."
   ]
  },
  {
   "cell_type": "code",
   "execution_count": null,
   "id": "5d5f2a93-249e-46b8-aa9d-0adb11b11e47",
   "metadata": {},
   "outputs": [],
   "source": [
    "import torch\n",
    "from tqdm import tqdm\n",
    "\n",
    "device = \"cuda\" if torch.cuda.is_available() else \"cpu\"\n",
    "dtype = torch.float32\n",
    "\n",
    "model = model.to(device=device, dtype=dtype)\n",
    "batch_iterator = dataset.get_batched_direct_forecast_input(initialization_time, n_steps=forecast_steps, batch_size=1)\n",
    "results_obs_only = []\n",
    "\n",
    "step = 1\n",
    "for inpt in tqdm(batch_iterator, total=forecast_steps, desc=\"Running forecast\"):\n",
    "    lats = np.rad2deg(inpt[\"static\"][0, 0].float().cpu().numpy())[:, 0]\n",
    "    lons = np.rad2deg(inpt[\"static\"][0, 1].float().cpu().numpy())[0]\n",
    "    valid_time = initialization_time + np.timedelta64(3, \"h\") * step\n",
    "    step += 1\n",
    "\n",
    "    # Move input to GPU and case to target dtype.\n",
    "    inpt = {\n",
    "        name: tnsr.to(device=device, dtype=dtype) for name,tnsr in inpt.items()\n",
    "    }\n",
    "\n",
    "    # Run inference\n",
    "    with torch.no_grad():\n",
    "        pred = model(inpt, obs_only=True)[\"surface_precip\"]\n",
    "        expected_value = pred.expected_value().cpu().float().numpy()[0, 0] # Drop batch and feature dimensions.\n",
    "        p_1 = pred.probability_greater_than(1.0).cpu().float().numpy()[0, 0]\n",
    "        p_10 = pred.probability_greater_than(10.0).cpu().float().numpy()[0, 0]\n",
    "\n",
    "    result = xr.Dataset({\n",
    "        \"latitude\": ((\"latitude\",), lats),\n",
    "        \"longitude\": ((\"longitude\",), lons),\n",
    "        \"valid_time\": valid_time,\n",
    "        \"surface_precip\": ((\"latitude\", \"longitude\"), expected_value),\n",
    "        \"p_1mm\": ((\"latitude\", \"longitude\"), p_1,),\n",
    "        \"p_10mm\": ((\"latitude\", \"longitude\"), p_10)\n",
    "    })\n",
    "    results_obs_only.append(result)\n",
    "    \n",
    "results_obs_only = xr.concat(results_obs_only, dim=\"valid_time\")\n",
    "results_obs_only[\"initialization_time\"] = initialization_time\n",
    "results_obs_only_roi = results_obs_only[{\"latitude\": lat_mask.data, \"longitude\": lon_mask.data}]"
   ]
  },
  {
   "cell_type": "markdown",
   "id": "31997da2-418f-4843-98ba-08399a53eecf",
   "metadata": {},
   "source": [
    "## Global"
   ]
  },
  {
   "cell_type": "code",
   "execution_count": null,
   "id": "2ecb9ab9-f84c-408c-967d-934e67a355ab",
   "metadata": {},
   "outputs": [],
   "source": [
    "from prithvi_precip.plotting import set_style, animate_results\n",
    "from IPython.display import HTML\n",
    "\n",
    "ani = animate_results(\n",
    "    {\n",
    "        \"IMERG\": results_imerg,\n",
    "        \"Prithvi Precip\": results,\n",
    "        \"Prithvi Precip (Obs)\": results_obs,\n",
    "        \"Prithvi Precip (Obs only)\": results_obs_only,\n",
    "    },\n",
    "    include_metrics=True,\n",
    "    n_cols=2,\n",
    "    panel_width=8\n",
    ")\n",
    "HTML(ani.to_jshtml())"
   ]
  },
  {
   "cell_type": "markdown",
   "id": "d84096b4-ad10-4907-b055-91caffee6bbb",
   "metadata": {},
   "source": [
    "## Local"
   ]
  },
  {
   "cell_type": "code",
   "execution_count": null,
   "id": "74a324f0-a956-4805-9c82-073c5c57ab75",
   "metadata": {},
   "outputs": [],
   "source": [
    "from prithvi_precip.plotting import set_style, animate_results\n",
    "from IPython.display import HTML\n",
    "\n",
    "ani = animate_results(\n",
    "    {\n",
    "        \"IMERG\": results_imerg_roi,\n",
    "        \"MERRA-2\": results_merra_roi,\n",
    "        \"Prithvi Precip\": results_roi,\n",
    "        \"Prithvi Precip (Obs)\": results_obs_roi,\n",
    "        \"Prithvi Precip (Obs only)\": results_obs_only_roi,\n",
    "    },\n",
    "    include_metrics=True,\n",
    "    n_cols=2\n",
    ")\n",
    "HTML(ani.to_jshtml())"
   ]
  }
 ],
 "metadata": {
  "kernelspec": {
   "display_name": "prithvi_wxc",
   "language": "python",
   "name": "prithvi_wxc"
  },
  "language_info": {
   "codemirror_mode": {
    "name": "ipython",
    "version": 3
   },
   "file_extension": ".py",
   "mimetype": "text/x-python",
   "name": "python",
   "nbconvert_exporter": "python",
   "pygments_lexer": "ipython3",
   "version": "3.10.12"
  }
 },
 "nbformat": 4,
 "nbformat_minor": 5
}
